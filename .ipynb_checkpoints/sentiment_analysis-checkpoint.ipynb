{
 "cells": [
  {
   "cell_type": "markdown",
   "metadata": {
    "colab_type": "text",
    "id": "SzxJDSJIIwuN"
   },
   "source": [
    "# Sentiment Analysis sulle Recensioni di Yelp\n",
    "La Sentiment Analysis è il processo di identificazione dell'emozione espressa in un testo, positiva o negativa.<br><br>\n",
    "In questo notebook useremo Spark e la sua MLlib per costruire un modello di Sentiment Analysis usando il dataset messo a disposizione da Yelp, una famossisima applicazione che permette di recensire locali e attività commerciali."
   ]
  },
  {
   "cell_type": "markdown",
   "metadata": {
    "colab_type": "text",
    "id": "cFJSQXSfIwuP"
   },
   "source": [
    "## Procuriamoci il Dataset\n",
    "Possiamo scaricare il dataset dalla pagina ufficiale, che trovi a [questo indirizzo](https://www.yelp.com/dataset), oppure [tramite Kaggle](https://www.kaggle.com/yelp-dataset/yelp-dataset). Per non uscire dal notebook scarichiamo il dataset usando le API di Kaggle."
   ]
  },
  {
   "cell_type": "code",
   "execution_count": null,
   "metadata": {
    "colab": {},
    "colab_type": "code",
    "id": "zIyEtwXRIwuQ"
   },
   "outputs": [],
   "source": [
    "!kaggle datasets download yelp-dataset/yelp-dataset"
   ]
  },
  {
   "cell_type": "markdown",
   "metadata": {
    "colab_type": "text",
    "id": "7-bsdnBSIwuT"
   },
   "source": [
    "Il dataset si trova all'interno di un'archivio zip, estraiamolo con unzip."
   ]
  },
  {
   "cell_type": "code",
   "execution_count": null,
   "metadata": {
    "colab": {},
    "colab_type": "code",
    "id": "LdcifDH2IwuU"
   },
   "outputs": [],
   "source": [
    "!unzip -o yelp-dataset.zip"
   ]
  },
  {
   "cell_type": "markdown",
   "metadata": {
    "colab_type": "text",
    "id": "kc6cyL7SIwuW"
   },
   "source": [
    "L'archivio contiene 4 file json differenti:\n",
    "* yelp_academic_dataset_business.json\n",
    "* yelp_academic_dataset_checkin.json\n",
    "* yelp_academic_dataset_review.json\n",
    "* yelp_academic_dataset_tip.json\n",
    "* yelp_academic_dataset_user.json\n",
    "\n",
    "Ognuno contiene delle informazioni differenti, quello con le recensioni è *yelp_academic_dataset_review.json* che è pesa oltre 5 GB."
   ]
  },
  {
   "cell_type": "markdown",
   "metadata": {
    "colab_type": "text",
    "id": "fyaIajenIwuX"
   },
   "source": [
    "## Inizializziamo Spark\n",
    "Inizializziamo Spark usando i contesti. Perchè no una sessione come abbiamo fatto in precedenza ? Perché dobbiamo specificare la configurazione manualmente, nello specifico dobbiamo modificare la dimensione della memoria del driver."
   ]
  },
  {
   "cell_type": "code",
   "execution_count": 1,
   "metadata": {
    "colab": {},
    "colab_type": "code",
    "id": "1cWf74_jIwuX"
   },
   "outputs": [],
   "source": [
    "from pyspark import SparkContext, SparkConf\n",
    "from pyspark.sql import SQLContext\n",
    "\n",
    "conf = SparkConf().setAppName(\"basic\").setMaster(\"local[*]\").set('spark.driver.memory','5g')\n",
    "sc = SparkContext(conf=conf)\n",
    "sqlContext = SQLContext(sc)"
   ]
  },
  {
   "cell_type": "code",
   "execution_count": 2,
   "metadata": {},
   "outputs": [],
   "source": [
    "sc.setCheckpointDir(\"D:/esercitazioni_spark/data/checkpoint\")"
   ]
  },
  {
   "cell_type": "markdown",
   "metadata": {
    "colab_type": "text",
    "id": "DTl6FzxlIwuZ"
   },
   "source": [
    "## Importiamo il dataset in un DataFrame\n",
    "Importiamo il dataset in un DataFrame, trattandosi di un file json possiamo utilizzare la funzione .json."
   ]
  },
  {
   "cell_type": "code",
   "execution_count": 3,
   "metadata": {
    "colab": {},
    "colab_type": "code",
    "id": "YUENhrS6Iwua"
   },
   "outputs": [
    {
     "name": "stdout",
     "output_type": "stream",
     "text": [
      "+--------------------+----+-------------------+-----+--------------------+-----+--------------------+------+--------------------+\n",
      "|         business_id|cool|               date|funny|           review_id|stars|                text|useful|             user_id|\n",
      "+--------------------+----+-------------------+-----+--------------------+-----+--------------------+------+--------------------+\n",
      "|-MhfebM0QIsKt87iD...|   0|2015-04-15 05:21:16|    0|xQY8N_XvtGbearJ5X...|  2.0|As someone who ha...|     5|OwjRMXRC0KyPrIlcj...|\n",
      "|lbrU8StCq3yDfr-QM...|   0|2013-12-07 03:16:52|    1|UmFMZ8PyXZTY2Qcwz...|  1.0|I am actually hor...|     1|nIJD_7ZXHq-FX8byP...|\n",
      "|HQl28KMwrEKHqhFrr...|   0|2015-12-05 03:18:11|    0|LG2ZaYiOgpr2DK_90...|  5.0|I love Deagan's. ...|     1|V34qejxNsCbcgD8C0...|\n",
      "|5JxlZaqCnk1MnbgRi...|   0|2011-05-27 05:30:52|    0|i6g_oA9Yf9Y31qt0w...|  1.0|Dismal, lukewarm,...|     0|ofKDkJKXSKZXu5xJN...|\n",
      "|IS4cv902ykd8wj1TR...|   0|2017-01-14 21:56:57|    0|6TdNDKywdbjoTkize...|  4.0|Oh happy day, fin...|     0|UgMW8bLE0QMJDCkQ1...|\n",
      "+--------------------+----+-------------------+-----+--------------------+-----+--------------------+------+--------------------+\n",
      "only showing top 5 rows\n",
      "\n"
     ]
    }
   ],
   "source": [
    "yelp_df = sqlContext.read.json('file:/D:/esercitazioni_spark/data/archive/yelp_academic_dataset_review.json')\n",
    "yelp_df.show(5)"
   ]
  },
  {
   "cell_type": "code",
   "execution_count": 4,
   "metadata": {},
   "outputs": [
    {
     "data": {
      "text/plain": [
       "DataFrame[business_id: string, cool: bigint, date: string, funny: bigint, review_id: string, stars: double, text: string, useful: bigint, user_id: string]"
      ]
     },
     "execution_count": 4,
     "metadata": {},
     "output_type": "execute_result"
    }
   ],
   "source": [
    "import pyspark\n",
    "yelp_df.persist( pyspark.StorageLevel.MEMORY_AND_DISK )"
   ]
  },
  {
   "cell_type": "markdown",
   "metadata": {
    "colab_type": "text",
    "id": "X6tpOdcZIwuc"
   },
   "source": [
    "**ATTENZIONE**: Se dovessi ottenere un'errore di tipo *permission denied*, modifica i permessi sul file json e riprova."
   ]
  },
  {
   "cell_type": "code",
   "execution_count": null,
   "metadata": {
    "colab": {},
    "colab_type": "code",
    "id": "6kW2qwLyIwuc"
   },
   "outputs": [],
   "source": [
    "!sudo chmod 777 yelp_academic_dataset_review.json"
   ]
  },
  {
   "cell_type": "markdown",
   "metadata": {
    "colab_type": "text",
    "id": "RyQCQh_HIwuf"
   },
   "source": [
    "Vediamo quali sono le colonne del DataFrame"
   ]
  },
  {
   "cell_type": "code",
   "execution_count": 5,
   "metadata": {
    "colab": {},
    "colab_type": "code",
    "id": "1lhHkaR8Iwuf",
    "outputId": "10a684ad-cbe3-408b-e0d7-b73be3089931"
   },
   "outputs": [
    {
     "data": {
      "text/plain": [
       "['business_id',\n",
       " 'cool',\n",
       " 'date',\n",
       " 'funny',\n",
       " 'review_id',\n",
       " 'stars',\n",
       " 'text',\n",
       " 'useful',\n",
       " 'user_id']"
      ]
     },
     "execution_count": 5,
     "metadata": {},
     "output_type": "execute_result"
    }
   ],
   "source": [
    "yelp_df.columns"
   ]
  },
  {
   "cell_type": "markdown",
   "metadata": {
    "colab_type": "text",
    "id": "lM5QRd12Iwui"
   },
   "source": [
    "Abbiamo ben 9 colonne, che sono:\n",
    "* user_id: identificativo del recensore\n",
    "* business_id: identificato del business recensito\n",
    "* review_id: identificativo della recensione\n",
    "* text: testo della recensione\n",
    "* date: data della recensione\n",
    "* stars: valutazione dell'attività (da 1.0 a 5.0).\n",
    "* useful: numero di utenti che hanno segnato la recensione come uile\n",
    "* cool: numero degli utenti che hanno segnato la recensione come toga (si dice ancora toga? Forse no).\n",
    "* funny: numero di utenti che hanno segnato la recensione come divertente.\n",
    "\n",
    "Le uniche informazioni che a noi interessano sono il testo e la valutazione, creiamo un nuovo DataFrame con soltanto queste colonne."
   ]
  },
  {
   "cell_type": "code",
   "execution_count": 6,
   "metadata": {
    "colab": {},
    "colab_type": "code",
    "id": "VznwH1RvIwuj"
   },
   "outputs": [
    {
     "name": "stdout",
     "output_type": "stream",
     "text": [
      "+--------------------+-----+\n",
      "|                text|stars|\n",
      "+--------------------+-----+\n",
      "|As someone who ha...|  2.0|\n",
      "|I am actually hor...|  1.0|\n",
      "|I love Deagan's. ...|  5.0|\n",
      "|Dismal, lukewarm,...|  1.0|\n",
      "|Oh happy day, fin...|  4.0|\n",
      "+--------------------+-----+\n",
      "only showing top 5 rows\n",
      "\n"
     ]
    }
   ],
   "source": [
    "reviews_df = yelp_df.select([\"text\", \"stars\"])\n",
    "reviews_df.show(5)"
   ]
  },
  {
   "cell_type": "markdown",
   "metadata": {
    "colab_type": "text",
    "id": "8R4zdllSIwul"
   },
   "source": [
    "Quante recensioni abbiamo a disposizione ? Non lo so, contiamole."
   ]
  },
  {
   "cell_type": "code",
   "execution_count": 7,
   "metadata": {
    "colab": {},
    "colab_type": "code",
    "id": "ahAVn554Iwum",
    "outputId": "5374bee6-c851-48eb-8e6c-dedead7950ba"
   },
   "outputs": [
    {
     "data": {
      "text/plain": [
       "8021122"
      ]
     },
     "execution_count": 7,
     "metadata": {},
     "output_type": "execute_result"
    }
   ],
   "source": [
    "reviews_df.count()"
   ]
  },
  {
   "cell_type": "markdown",
   "metadata": {
    "colab_type": "text",
    "id": "ytoxdcOuIwuo"
   },
   "source": [
    "Le recensioni sono ben 6.685.900, davvero tante ! Facciamo una cosa, cominciamo creando un modello utilizzando soltanto il 1% del dataset."
   ]
  },
  {
   "cell_type": "code",
   "execution_count": 8,
   "metadata": {
    "colab": {},
    "colab_type": "code",
    "id": "csU8JHG1Iwup",
    "outputId": "2f8ed066-89ca-4692-cb6d-1ae7e8dce434"
   },
   "outputs": [
    {
     "data": {
      "text/plain": [
       "80458"
      ]
     },
     "execution_count": 8,
     "metadata": {},
     "output_type": "execute_result"
    }
   ],
   "source": [
    "subreviews_df = reviews_df.sample(False, 0.01, seed=0)\n",
    "subreviews_df.count()"
   ]
  },
  {
   "cell_type": "markdown",
   "metadata": {
    "colab_type": "text",
    "id": "dAcObZkIIwut"
   },
   "source": [
    "## Preprocessing del testo\n",
    "Ora dobbiamo processare il testo delle recensioni per renderlo un buon input per una modello di machine learning. Iniziamo rimuovendo tutta la punteggiatura da ogni frase. Definiamo una funzione per farlo."
   ]
  },
  {
   "cell_type": "code",
   "execution_count": 9,
   "metadata": {
    "colab": {},
    "colab_type": "code",
    "id": "ypc3127lIwuu",
    "outputId": "309c2ffd-78ca-4dce-9d1e-fd22e0d2aa52"
   },
   "outputs": [
    {
     "data": {
      "text/plain": [
       "'che cacchio dici 1'"
      ]
     },
     "execution_count": 9,
     "metadata": {},
     "output_type": "execute_result"
    }
   ],
   "source": [
    "import string\n",
    "\n",
    "def remove_punct(text):\n",
    "    return text.translate(str.maketrans('', '', string.punctuation))\n",
    "\n",
    "remove_punct(\"...che cacchio dici !!!1!\")"
   ]
  },
  {
   "cell_type": "markdown",
   "metadata": {
    "colab_type": "text",
    "id": "RAhM1OL6Iwuw"
   },
   "source": [
    "Utilizziamo la funzione *udf* (User Defined Function - Funzione Definita dall'Utente) per creare una funzione spark partendo da quella che abbiamo definito noi per la rimozione della punteggiatura."
   ]
  },
  {
   "cell_type": "code",
   "execution_count": 10,
   "metadata": {
    "colab": {},
    "colab_type": "code",
    "id": "0Q5mBor8Iwux"
   },
   "outputs": [],
   "source": [
    "from pyspark.sql.functions import udf\n",
    "\n",
    "punct_remove = udf(lambda s: remove_punct(s))"
   ]
  },
  {
   "cell_type": "markdown",
   "metadata": {
    "colab_type": "text",
    "id": "RCmkswmRIwuz"
   },
   "source": [
    "Fatto questo applichiamo la funzione alla colonna text, per rimuovere la punteggiatura da ogni recensione."
   ]
  },
  {
   "cell_type": "code",
   "execution_count": 11,
   "metadata": {
    "colab": {},
    "colab_type": "code",
    "id": "3_Pa51WYIwu0"
   },
   "outputs": [],
   "source": [
    "subreviews_df = subreviews_df.withColumn(\"text\", punct_remove(reviews_df[\"text\"]))\n",
    "#reviews_df.show(5)"
   ]
  },
  {
   "cell_type": "markdown",
   "metadata": {
    "colab_type": "text",
    "id": "r6zEyLy2Iwu3"
   },
   "source": [
    "Fantastico ! Prossimo step, eseguire la **Tokenizzazione**, che ci serve per estrarre i **Token** dal testo, cioè le sue parti costituenti (le parole insomma). Per farlo possiamo usare la classe *Tokenizer* di MLlib."
   ]
  },
  {
   "cell_type": "code",
   "execution_count": 12,
   "metadata": {
    "colab": {},
    "colab_type": "code",
    "id": "3YTZS8kzIwu4"
   },
   "outputs": [],
   "source": [
    "from pyspark.ml.feature import Tokenizer\n",
    "\n",
    "tokenizer = Tokenizer(inputCol=\"text\", outputCol=\"words\")\n",
    "words_df = tokenizer.transform(subreviews_df)\n",
    "\n",
    "#words_df.show(5)"
   ]
  },
  {
   "cell_type": "markdown",
   "metadata": {
    "colab_type": "text",
    "id": "z-Veyez1Iwu5"
   },
   "source": [
    "Ora abbiamo ogni recensione rappresentata da una lista di parole, molte di queste parole sono superflue e non portano informazioni utili ai fini della sentiment analysis. Tali parole sono dette StopWords ed è buona pratica rimuoverle, possiamo farlo utilizzando la classe *StopWordsRemover* di MLlib."
   ]
  },
  {
   "cell_type": "code",
   "execution_count": 13,
   "metadata": {
    "colab": {},
    "colab_type": "code",
    "id": "dglzAiaMIwu6"
   },
   "outputs": [
    {
     "name": "stdout",
     "output_type": "stream",
     "text": [
      "+--------------------+-----+--------------------+--------------------+\n",
      "|                text|stars|               words|            filtered|\n",
      "+--------------------+-----+--------------------+--------------------+\n",
      "|I went up too my ...|  1.0|[i, went, up, too...|[went, storage, u...|\n",
      "|My hubby and I we...|  5.0|[my, hubby, and, ...|[hubby, went, fir...|\n",
      "|Id never dine in ...|  3.0|[id, never, dine,...|[id, never, dine,...|\n",
      "|Great food and ve...|  5.0|[great, food, and...|[great, food, per...|\n",
      "|Great service Fri...|  4.0|[great, service, ...|[great, service, ...|\n",
      "+--------------------+-----+--------------------+--------------------+\n",
      "only showing top 5 rows\n",
      "\n"
     ]
    }
   ],
   "source": [
    "from pyspark.ml.feature import StopWordsRemover\n",
    "\n",
    "stopwords = StopWordsRemover(inputCol=\"words\", outputCol=\"filtered\")\n",
    "words_df = stopwords.transform(words_df)\n",
    "\n",
    "words_df.show(5)"
   ]
  },
  {
   "cell_type": "markdown",
   "metadata": {
    "colab_type": "text",
    "id": "LYvTjj_0Iwu8"
   },
   "source": [
    "Adesso abbiamo ogni recensione rappresentata da una lista di parole utili, ma un modello di Machine Learning non."
   ]
  },
  {
   "cell_type": "code",
   "execution_count": 14,
   "metadata": {
    "colab": {},
    "colab_type": "code",
    "id": "4AT0j4TYIwu8"
   },
   "outputs": [],
   "source": [
    "from pyspark.ml.feature import CountVectorizer\n",
    "\n",
    "cv = CountVectorizer(inputCol='filtered', outputCol='features')\n",
    "cv_model = cv.fit(words_df)\n",
    "cv_df = cv_model.transform(words_df)"
   ]
  },
  {
   "cell_type": "markdown",
   "metadata": {
    "colab_type": "text",
    "id": "4dWTH6D9Iwu_"
   },
   "source": [
    "Ora scartiamo pure tutte le colonne intermedie che abbiamo creato tenendo soltanto quelle che ci serviranno per realizzare il modello, features e stars."
   ]
  },
  {
   "cell_type": "code",
   "execution_count": 16,
   "metadata": {
    "colab": {},
    "colab_type": "code",
    "id": "Fssc-z8EIwvB"
   },
   "outputs": [],
   "source": [
    "cv_df = cv_df.select([\"features\",\"stars\"])\n",
    "#data_df.show(5)"
   ]
  },
  {
   "cell_type": "markdown",
   "metadata": {
    "colab_type": "text",
    "id": "hfdNsBV7IwvF"
   },
   "source": [
    "## Quali sono le recensioni negative ?\n",
    "Come abbiamo già detto le recensioni sono accompagnate da una valutazione che va da 1.0 a 5.0 stelle, etichettiamo come positive le recensioni con una valutazione di almeno 3.5 stelle, mentre come negative quelle con una valutazione inferiore alle 2.5 stelle. <br>\n",
    "Le recensioni con 3 stelle sono tendenzialmente neutre, quindi rimuoviamole dal dataframe."
   ]
  },
  {
   "cell_type": "code",
   "execution_count": 17,
   "metadata": {
    "colab": {},
    "colab_type": "code",
    "id": "cPno9-jmIwvG"
   },
   "outputs": [],
   "source": [
    "from pyspark.sql.functions import when\n",
    "\n",
    "cv_df = cv_df.filter(\"stars != 3.0\")\n",
    "cv_df = cv_df.withColumn(\"label\", when(cv_df[\"stars\"]>=3.5, 1).otherwise(0))"
   ]
  },
  {
   "cell_type": "markdown",
   "metadata": {
    "colab_type": "text",
    "id": "QxIx5gkhIwvI"
   },
   "source": [
    "Utilizziamo il metodo *randomSplit* per dividere il DataFrame in due:\n",
    "* un DataFrame per l'addestramento del modello che conterrà il 70% degli esempi.\n",
    "* un DataFrame per il testing del modello che conterrà il restante 30% degli esempi."
   ]
  },
  {
   "cell_type": "code",
   "execution_count": 18,
   "metadata": {
    "colab": {},
    "colab_type": "code",
    "id": "Hm7dZweZIwvJ"
   },
   "outputs": [],
   "source": [
    "train_df, test_df = cv_df.randomSplit([0.7, 0.3])"
   ]
  },
  {
   "cell_type": "markdown",
   "metadata": {
    "colab_type": "text",
    "id": "hL3jEpA2IwvL"
   },
   "source": [
    "Ora possiamo creare il modello, utilizziamo una Regressione Logistica."
   ]
  },
  {
   "cell_type": "code",
   "execution_count": 19,
   "metadata": {
    "colab": {},
    "colab_type": "code",
    "id": "qSUax_VfIwvM"
   },
   "outputs": [],
   "source": [
    "from pyspark.ml.classification import LogisticRegression\n",
    "\n",
    "lr = LogisticRegression(featuresCol=\"features\", labelCol=\"label\")\n",
    "model = lr.fit(train_df)"
   ]
  },
  {
   "cell_type": "markdown",
   "metadata": {
    "colab_type": "text",
    "id": "dZw0DHApIwvN"
   },
   "source": [
    "Valutiamo il modello addestrato sul DataFrame di test."
   ]
  },
  {
   "cell_type": "code",
   "execution_count": 20,
   "metadata": {
    "colab": {},
    "colab_type": "code",
    "id": "jZWPmYBIIwvO",
    "outputId": "8fb6bcf7-a919-4473-c6d0-4200ae2eb294"
   },
   "outputs": [
    {
     "name": "stdout",
     "output_type": "stream",
     "text": [
      "0.9140832595217007\n",
      "[0.8519690576652602, 0.9364968597348221]\n",
      "[0.8288010945784163, 0.9460394770571648]\n"
     ]
    }
   ],
   "source": [
    "evaluation = model.evaluate(test_df)\n",
    "print(evaluation.accuracy)\n",
    "print(evaluation.precisionByLabel)\n",
    "print(evaluation.recallByLabel)"
   ]
  },
  {
   "cell_type": "markdown",
   "metadata": {
    "colab_type": "text",
    "id": "tMK1SzunIwvQ"
   },
   "source": [
    "## Creiamo un modello con tutti i dati"
   ]
  },
  {
   "cell_type": "markdown",
   "metadata": {
    "colab_type": "text",
    "id": "e-Uo2WzEIwvQ"
   },
   "source": [
    "Bene, adesso addestriamo il modello utilizzando il dataset per intero con tutti le sue 6.685.900 recensioni.\n",
    "<br><br>\n",
    "Rimuoviamo la punteggiatura dal testo."
   ]
  },
  {
   "cell_type": "code",
   "execution_count": null,
   "metadata": {
    "colab": {},
    "colab_type": "code",
    "id": "zUekk1J-IwvR"
   },
   "outputs": [],
   "source": [
    "data_df = reviews_df.withColumn(\"text\", punct_remove(reviews_df[\"text\"]))"
   ]
  },
  {
   "cell_type": "markdown",
   "metadata": {
    "colab_type": "text",
    "id": "BVRv1mtJIwvS"
   },
   "source": [
    "Eseguiamo la tokenizzazione e rimuoviamo le stop words."
   ]
  },
  {
   "cell_type": "code",
   "execution_count": null,
   "metadata": {
    "colab": {},
    "colab_type": "code",
    "id": "OKI8yhxFIwvT"
   },
   "outputs": [],
   "source": [
    "tokenizer = Tokenizer(inputCol=\"text\", outputCol=\"words\")\n",
    "data_df = tokenizer.transform(data_df)\n",
    "\n",
    "stopwords = StopWordsRemover(inputCol=\"words\", outputCol=\"filtered\")\n",
    "data_df = stopwords.transform(data_df)"
   ]
  },
  {
   "cell_type": "markdown",
   "metadata": {
    "colab_type": "text",
    "id": "eqWVtS7bIwvV"
   },
   "source": [
    "Questa volta, piuttosto che usare un semplice modello Bag of Words per la rappresentazione delle parole, usiamo un modello più sofisticato, cioè il **TF-IDF** (Term Frequency - Inverse Document Frequency) che assegna un peso maggiore alle parole più rare e penalizza quelle più comuni."
   ]
  },
  {
   "cell_type": "code",
   "execution_count": null,
   "metadata": {
    "colab": {},
    "colab_type": "code",
    "id": "qYukextOIwvW"
   },
   "outputs": [],
   "source": [
    "from pyspark.ml.feature import HashingTF, IDF\n",
    "\n",
    "hashing_tf = HashingTF(inputCol='filtered', outputCol='raw_features')\n",
    "data_df = hashing_tf.transform(data_df)\n",
    "\n",
    "idf = IDF(inputCol=\"raw_features\", outputCol=\"features\")\n",
    "idf_model = idf.fit(data_df)\n",
    "data_df = idf_model.transform(data_df)"
   ]
  },
  {
   "cell_type": "markdown",
   "metadata": {
    "colab_type": "text",
    "id": "wsDlIxfNIwvX"
   },
   "source": [
    "Creiamo la colonna per il target."
   ]
  },
  {
   "cell_type": "code",
   "execution_count": null,
   "metadata": {
    "colab": {},
    "colab_type": "code",
    "id": "A5aoCcc0IwvY"
   },
   "outputs": [],
   "source": [
    "data_df = data_df.filter(\"stars != 3.0\")\n",
    "data_df = data_df.withColumn(\"label\", when(data_df[\"stars\"]>=3.5, 1).otherwise(0))"
   ]
  },
  {
   "cell_type": "markdown",
   "metadata": {
    "colab_type": "text",
    "id": "fwvohznWIwvZ"
   },
   "source": [
    "Dividiamo il dataframe in set di addestramento e di test, avendo moltissimi esempi possiamo anche ridurre la dimensione del set di test all'1%."
   ]
  },
  {
   "cell_type": "code",
   "execution_count": null,
   "metadata": {
    "colab": {},
    "colab_type": "code",
    "id": "RT_jLcN5IwvZ"
   },
   "outputs": [],
   "source": [
    "train_df, test_df = data_df.randomSplit([0.9, 0.1])"
   ]
  },
  {
   "cell_type": "markdown",
   "metadata": {
    "colab_type": "text",
    "id": "ddvvWMl3Iwvb"
   },
   "source": [
    "Creiamo il modello e addestriamolo."
   ]
  },
  {
   "cell_type": "code",
   "execution_count": null,
   "metadata": {
    "colab": {},
    "colab_type": "code",
    "id": "wmkEye3-Iwvb"
   },
   "outputs": [],
   "source": [
    "lr = LogisticRegression(featuresCol=\"features\", labelCol=\"label\")\n",
    "model = lr.fit(train_df)"
   ]
  },
  {
   "cell_type": "markdown",
   "metadata": {
    "colab_type": "text",
    "id": "d0YTlVKwIwvd"
   },
   "source": [
    "Valutiamolo sul set di test."
   ]
  },
  {
   "cell_type": "code",
   "execution_count": null,
   "metadata": {
    "colab": {},
    "colab_type": "code",
    "id": "oUko_MfkIwvd",
    "outputId": "f164112d-ab0f-4a45-ace1-65f5053c3344"
   },
   "outputs": [],
   "source": [
    "evaluation = model.evaluate(test_df)\n",
    "print(evaluation.accuracy)\n",
    "print(evaluation.precisionByLabel)\n",
    "print(evaluation.recallByLabel)"
   ]
  },
  {
   "cell_type": "markdown",
   "metadata": {
    "colab_type": "text",
    "id": "pfeKosQbIwvg"
   },
   "source": [
    "## Testiamo il Modello"
   ]
  },
  {
   "cell_type": "code",
   "execution_count": null,
   "metadata": {
    "colab": {},
    "colab_type": "code",
    "id": "8L5SFlksIwvh"
   },
   "outputs": [],
   "source": [
    "reviews = [\n",
    "        (\"World's Largest Entertainment McDonald's\",\"Lazy staff who do not want to serve u would rather stand in corners in groups talking stood at counter 10 minutes with all staff refusing eye contact as fear of having to serve u supervisor went over and shouted at staff they all stood there shrugging shoulders not wanting t serve u then when orders were ready staff came with trays dragging feet and rolling eyes then it was cold horrible won’t return !!\"),\n",
    "        (\"Disnayland Paris\",\"Went here 2x with my husband and found it more magical the 2nd time. Still the happiest place on earth on my list. It gets better and better.\"),\n",
    "        (\"58 Tour Eiffel Restaurant\",\"What an experience! what a VIEW!. what a meal!!... Delicious, fine dining. excellent0 excellent service and food. A memory of a lifetime\"),\n",
    "        (\"Ristorante Cracco\",\"If you want to start your trip in Milan with good mood, for sure you have to avoid this restaurant - the worst pizza we had and the smallest portion of pasta! And incompatible price for that everything! Even, I am really angry, because this is not my first visit in Italy and not first pizza and I feel myself like ....!!!!\"),\n",
    "        (\"Happy Wok\",\"Stay away as far as you can, unless you like goopy tables and mass produced food that appeared to be sitting out for too long. It wasn’t a nice experience and we will not attempt to go back under any circumstance\"),\n",
    "        (\"Pepe in grani\",\"45 minutes driving from Naples center. Worth every moment on the way. The best and the most unique pizza I ever tasted. Very nice place, every centimeter was well though and planned before implemented. Nice terrace on top for those like the view. Very welcoming crew, great and fast service. Recommend to order the tasting option for those coming in parties of four. \")\n",
    "    ]\n",
    "\n",
    "test_df = sqlContext.createDataFrame(reviews, [\"location\",\"text\"] )"
   ]
  },
  {
   "cell_type": "code",
   "execution_count": null,
   "metadata": {
    "colab": {},
    "colab_type": "code",
    "id": "ROIlF3jEIwvj"
   },
   "outputs": [],
   "source": [
    "test_df = test_df.withColumn(\"text\", punct_remove(test_df[\"text\"]))"
   ]
  },
  {
   "cell_type": "code",
   "execution_count": null,
   "metadata": {
    "colab": {},
    "colab_type": "code",
    "id": "DYbjh14DIwvm"
   },
   "outputs": [],
   "source": [
    "test_df = tokenizer.transform(test_df)\n",
    "test_df = stopwords.transform(test_df)"
   ]
  },
  {
   "cell_type": "code",
   "execution_count": null,
   "metadata": {
    "colab": {},
    "colab_type": "code",
    "id": "fgHh2YU7Iwvo"
   },
   "outputs": [],
   "source": [
    "test_df = hashing_tf.transform(test_df)\n",
    "test_df = idf_model.transform(test_df)"
   ]
  },
  {
   "cell_type": "code",
   "execution_count": null,
   "metadata": {
    "colab": {},
    "colab_type": "code",
    "id": "r7D8xO7WIwvq"
   },
   "outputs": [],
   "source": [
    "pred_df = model.transform(test_df)"
   ]
  },
  {
   "cell_type": "code",
   "execution_count": null,
   "metadata": {
    "colab": {},
    "colab_type": "code",
    "id": "gwQfwHJFIwvt"
   },
   "outputs": [],
   "source": [
    "#pred_df = pred_df.select([\"text\", \"label\"])\n",
    "pred_df.show()"
   ]
  },
  {
   "cell_type": "code",
   "execution_count": null,
   "metadata": {
    "colab": {},
    "colab_type": "code",
    "id": "zJWT9IUgIwvu"
   },
   "outputs": [],
   "source": []
  }
 ],
 "metadata": {
  "colab": {
   "name": "sentiment_analysis.ipynb",
   "provenance": [],
   "version": "0.3.2"
  },
  "kernelspec": {
   "display_name": "Python 3",
   "language": "python",
   "name": "python3"
  },
  "language_info": {
   "codemirror_mode": {
    "name": "ipython",
    "version": 3
   },
   "file_extension": ".py",
   "mimetype": "text/x-python",
   "name": "python",
   "nbconvert_exporter": "python",
   "pygments_lexer": "ipython3",
   "version": "3.7.3"
  }
 },
 "nbformat": 4,
 "nbformat_minor": 4
}
